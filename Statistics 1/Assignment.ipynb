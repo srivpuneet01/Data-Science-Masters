{
 "cells": [
  {
   "cell_type": "code",
   "execution_count": 2,
   "metadata": {},
   "outputs": [
    {
     "name": "stdout",
     "output_type": "stream",
     "text": [
      "$ 335.93\n"
     ]
    }
   ],
   "source": [
    "# Assignment 15.1\n",
    "\"\"\"\n",
    "Question:\n",
    "You survey households in your area to find the average rent they are paying. Find the\n",
    "standard deviation from the following data:\n",
    "$1550, $1700, $900, $850, $1000, $950.\n",
    "\"\"\"\n",
    "import numpy as np # import library\n",
    "data=np.array([1550, 1700, 900, 850, 1000, 950]) # data is a numpy aray\n",
    "data_mean=sum(data)//len(data)  #calculating mean of data\n",
    "\n",
    "# def a user defined fumction to calculte std deviation\n",
    "def stdev(x): \n",
    "    result=np.sqrt(sum((x_i - data_mean)**2 for x_i in x)/len(data)-1)\n",
    "    return(result) #return the value to calling point\n",
    "\n",
    "print(\"$\",round(stdev(data),2)) # using formula of standard deviation"
   ]
  },
  {
   "cell_type": "code",
   "execution_count": 4,
   "metadata": {},
   "outputs": [
    {
     "name": "stdout",
     "output_type": "stream",
     "text": [
      "5182.5\n"
     ]
    }
   ],
   "source": [
    "# Assignment 15.2\n",
    "\"\"\"\n",
    "Question:\n",
    "Find the variance for the following set of data representing trees in California (heights in\n",
    "feet):\n",
    "\"\"\"\n",
    "import numpy as np # importing library\n",
    "data=np.array([3, 21, 98, 203, 17, 9]) # data is a numpy aray\n",
    "data_mean=sum(data)//len(data) #calculating mean data_mean\n",
    "\n",
    "# def a user defined fumction to calculte variance\n",
    "def variance(x):\n",
    "    result=sum((x_i - data_mean)**2 for x_i in x)/len(data)-1\n",
    "    return(result)\n",
    "\n",
    "print(round(variance(data),2)) # calling the function variance(x)"
   ]
  },
  {
   "cell_type": "code",
   "execution_count": 3,
   "metadata": {},
   "outputs": [
    {
     "name": "stdout",
     "output_type": "stream",
     "text": [
      "p[X=0]= 0.8\n",
      "p[X=1]= 0.1\n",
      "p[X=2]= 0.07\n",
      "p[X=3]= 0.03\n"
     ]
    }
   ],
   "source": [
    "# Assignment 15.3\n",
    "\"\"\"\n",
    "Question:\n",
    "In a class on 100 students, 80 students passed in all subjects, 10 failed in one subject, 7\n",
    "failed in two subjects and 3 failed in three subjects. Find the probability distribution of\n",
    "the variable for number of subjects a student from the given class has failed in.\n",
    "\"\"\"\n",
    "\n",
    "\"\"\"\n",
    "Answer:\n",
    "let X is a random variable which indicates the number of subjects a student from a given class has failed in .so,\n",
    "\n",
    "if, X=0 ---> a student failed in 0 subjects\n",
    "    X=1 ---> a student failed in 1 subjects\n",
    "    X=2 ---> a student failed in 2 subjects\n",
    "    X=3 ---> a student failed in 3 subjects\n",
    "\n",
    "since the variable is random variable. hence the distribution is called pmf (probability mass function) .\n",
    "\n",
    "p(x=0)+p(x=1)+p(x=2)+p(x=3)=1\n",
    " \n",
    "p[X=0]= no_of_times_X_equalto_0/sum(no_of_times_X)\n",
    "p[X=1]= no_of_times_X_equalto_1/sum(no_of_times_X)\n",
    "p[X=2]= no_of_times_X_equalto_2/sum(no_of_times_X)\n",
    "p[X=3]= no_of_times_X_equalto_3/sum(no_of_times_X)\n",
    "\n",
    "\"\"\"\n",
    "import numpy as np #importing the library \n",
    "X=np.array([0,1,2,3]) #X is a numpy array\n",
    "no_of_times_X=np.array([80,10,7,3]) # let no_of_times_X is the value of number of times X has occured\n",
    "\n",
    "prob_of_X_equalto_0 =no_of_times_X[0]/sum(no_of_times_X)\n",
    "prob_of_X_equalto_1 =no_of_times_X[1]/sum(no_of_times_X)\n",
    "prob_of_X_equalto_2 =no_of_times_X[2]/sum(no_of_times_X)\n",
    "prob_of_X_equalto_3 =no_of_times_X[3]/sum(no_of_times_X)\n",
    "\n",
    "print(\"p[X=0]=\",prob_of_X_equalto_0)\n",
    "print(\"p[X=1]=\",prob_of_X_equalto_1)\n",
    "print(\"p[X=2]=\",prob_of_X_equalto_2)\n",
    "print(\"p[X=3]=\",prob_of_X_equalto_3)"
   ]
  }
 ],
 "metadata": {
  "kernelspec": {
   "display_name": "Python 3",
   "language": "python",
   "name": "python3"
  },
  "language_info": {
   "codemirror_mode": {
    "name": "ipython",
    "version": 3
   },
   "file_extension": ".py",
   "mimetype": "text/x-python",
   "name": "python",
   "nbconvert_exporter": "python",
   "pygments_lexer": "ipython3",
   "version": "3.6.5"
  }
 },
 "nbformat": 4,
 "nbformat_minor": 2
}
