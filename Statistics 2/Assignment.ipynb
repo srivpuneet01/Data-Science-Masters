{
 "cells": [
  {
   "cell_type": "code",
   "execution_count": 1,
   "metadata": {},
   "outputs": [
    {
     "name": "stdout",
     "output_type": "stream",
     "text": [
      "Hence the probability of 5 success out of 20 is 3.4264958230778575e-06\n"
     ]
    }
   ],
   "source": [
    "# Assignment 16.1\n",
    "\"\"\"\n",
    "Question:\n",
    "A test is conducted which is consisting of 20 MCQs (multiple choices questions) with\n",
    "every MCQ having its four options out of which only one is correct. Determine the\n",
    "probability that a person undertaking that test has answered exactly 5 questions wrong.\n",
    "\"\"\"\n",
    "\"\"\"\n",
    "Answer:\n",
    "Let X is a random variable \n",
    "X = the number of success out of n=20 trials\n",
    "n = 20 (here n is number of trials)\n",
    "\n",
    "success=option chosen for answer is wrong\n",
    "failure=option chosen for answer is right\n",
    "\n",
    "P(success)=p=3/4\n",
    "P(failure)=q=1/4\n",
    "\n",
    "the experiment seems to be binomial experiment.so,\n",
    "\n",
    "P(X=5)=nCr*(p**r)*(q**(n-r)),where n=20 and r=5\n",
    "\n",
    "\"\"\"\n",
    "#code section\n",
    "import scipy.special # import library\n",
    "def prob_binomial(p,q,n,r): # user defined function\n",
    "    prob=scipy.special.comb(n,r)*(p**r)*(q**(n-r))\n",
    "    return prob\n",
    "\n",
    "prob_val = prob_binomial((3/4),(1/4),20,5) # calling user defined function prob_binomial\n",
    "print(\"Hence the probability of 5 success out of 20 is\",prob_val)"
   ]
  },
  {
   "cell_type": "code",
   "execution_count": 2,
   "metadata": {},
   "outputs": [
    {
     "name": "stdout",
     "output_type": "stream",
     "text": [
      "Hence the probability of 5 success out of 50 is 0.03\n"
     ]
    }
   ],
   "source": [
    "# Assignment 16.2\n",
    "\"\"\"\n",
    "Question:\n",
    "A die marked A to E is rolled 50 times. Find the probability of getting a “D” exactly 5\n",
    "times.\n",
    "\"\"\"\n",
    "\"\"\"\n",
    "Answer:\n",
    "Let X is a random variable \n",
    "X = the number of success out of n=50 trials\n",
    "n = 50 (here n is number of trials)\n",
    "\n",
    "success=output after rolling a die is \"D\"\n",
    "failure=output after rolling a die is not \"D\"\n",
    "\n",
    "P(success)=p=1/5\n",
    "P(failure)=q=4/5\n",
    "\n",
    "the experiment seems to be binomial experiment.so,\n",
    "\n",
    "P(X=5)=nCr*(p**r)*(q**(n-r)),where n=50 and r=5\n",
    "\n",
    "\"\"\"\n",
    "#code section\n",
    "import scipy.special # import library\n",
    "def prob_binomial(p,q,n,r): # user defined function\n",
    "    prob=scipy.special.comb(n,r)*(p**r)*(q**(n-r))\n",
    "    return round(prob,3)\n",
    "\n",
    "prob_val = prob_binomial(1/5,4/5,50,5) # calling user defined function prob_binomial\n",
    "print(\"Hence the probability of 5 success out of 50 is\",prob_val)"
   ]
  },
  {
   "cell_type": "code",
   "execution_count": 3,
   "metadata": {},
   "outputs": [
    {
     "name": "stdout",
     "output_type": "stream",
     "text": [
      "Hence the probability of (r,r) is 0.13\n",
      "Hence the probability of (r,b) is 0.27\n",
      "Hence the probability of (b,r) is 0.27\n",
      "Hence the probability of (b,b) is 0.33\n"
     ]
    }
   ],
   "source": [
    "# Assignment 16.3\n",
    "\"\"\"\n",
    "Question:\n",
    "Two balls are drawn at random in succession without replacement from an urn\n",
    "containing 4 red balls and 6 black balls.\n",
    "Find the probabilities of all the possible outcomes.\n",
    "\"\"\"\n",
    "\"\"\"\n",
    "Answer:\n",
    "Acoording to the question,\n",
    "total number of balls=10\n",
    "number of red balls=4\n",
    "number of black bals=6\n",
    "\n",
    "since we have to chose balls without replacement, the above is example of conditional probability\n",
    "\n",
    "we have choosen two balls from the the urn.\n",
    "so possible outcomes (r,r),(r,b),(b,r),(b,b)\n",
    "\n",
    "P((r,r))=P(r)*P(r/r)=(4/10)*(3/9) =0.13\n",
    "\n",
    "P((r,b))=P(r)*P(b/r)=(4/10)*(6/9) =0.27\n",
    "\n",
    "P((b,r))=P(b)*P(r/b)=(6/10)*(4/9) =0.27\n",
    "\n",
    "P((b,b))=P(b)*P(b/b)=(6/10)*(5/9) =0.33\n",
    "\n",
    "\"\"\"\n",
    "#code section\n",
    "\n",
    "print(\"Hence the probability of (r,r) is\",round((4/10)*(3/9),2))\n",
    "print(\"Hence the probability of (r,b) is\",round((4/10)*(6/9),2))\n",
    "print(\"Hence the probability of (b,r) is\",round((6/10)*(4/9),2))\n",
    "print(\"Hence the probability of (b,b) is\",round((6/10)*(5/9),2))"
   ]
  },
  {
   "cell_type": "code",
   "execution_count": null,
   "metadata": {},
   "outputs": [],
   "source": []
  },
  {
   "cell_type": "code",
   "execution_count": null,
   "metadata": {},
   "outputs": [],
   "source": []
  }
 ],
 "metadata": {
  "kernelspec": {
   "display_name": "Python 3",
   "language": "python",
   "name": "python3"
  },
  "language_info": {
   "codemirror_mode": {
    "name": "ipython",
    "version": 3
   },
   "file_extension": ".py",
   "mimetype": "text/x-python",
   "name": "python",
   "nbconvert_exporter": "python",
   "pygments_lexer": "ipython3",
   "version": "3.6.5"
  }
 },
 "nbformat": 4,
 "nbformat_minor": 2
}
