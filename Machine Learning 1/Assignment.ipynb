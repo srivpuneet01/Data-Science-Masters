{
 "cells": [
  {
   "cell_type": "code",
   "execution_count": 1,
   "metadata": {},
   "outputs": [],
   "source": [
    "# Assignment 19.1\n",
    "\"\"\"\n",
    "Question:\n",
    "What are the three stages to build the hypotheses or model in machine learning?\n",
    "\"\"\"\n",
    "\"\"\"\n",
    "Answer:\n",
    "1.Model building\n",
    "2.Model testing\n",
    "3.Applying the model\n",
    "\n",
    "\"\"\"\n"
   ]
  },
  {
   "cell_type": "code",
   "execution_count": null,
   "metadata": {},
   "outputs": [],
   "source": [
    "# Assignment 19.2\n",
    "\"\"\"\n",
    "Question:\n",
    "What is the standard approach to supervised learning?\n",
    "\"\"\"\n",
    "\"\"\"\n",
    "Answer:\n",
    "In supervised learning we gather labeled data and we apply data preprocessing and cleaning on the data sets. Then we divide the \n",
    "into training sets and test sets. 80:20 ratio is considered as a good proportion for train-test-split.\n",
    "Then we again divide the training data into further new training data sets and validation data sets.\n",
    "we choose one of the suitable algorithm.Then we train machine learning model on new training data sets and \n",
    "tune+evaluate the model using validation data.once the model is performing well on validation data\n",
    "then we test the model over test set. if the prediction is not accurate to \n",
    "our expectation, we repeat the steps.\n",
    "\"\"\"\n"
   ]
  },
  {
   "cell_type": "code",
   "execution_count": null,
   "metadata": {},
   "outputs": [],
   "source": [
    "# Assignment 19.3\n",
    "\"\"\"\n",
    "Question:\n",
    "What is Training set and Test set?\n",
    "\"\"\"\n",
    "\"\"\"\n",
    "Answer:\n",
    "In machine learning, a training set is a dataset used to train a model. In training the model, specific features are picked out \n",
    "from the training set. These features are then incorporated into the model.\n",
    "The test set is a dataset used to measure how well the model performs at making predictions on that test set.\n",
    "\"\"\""
   ]
  },
  {
   "cell_type": "code",
   "execution_count": null,
   "metadata": {},
   "outputs": [],
   "source": [
    "# Assignment 19.4\n",
    "\"\"\"\n",
    "Question:\n",
    "What is the general principle of an ensemble method and what is bagging and\n",
    "boosting in ensemble method?\n",
    "\"\"\"\n",
    "\n",
    "\"\"\"\n",
    "Answer:\n",
    "The general principle of an ensemble method is to combine the predictions of several models built with a given learning algorithm\n",
    "in order to improve robustness over a single model.\n",
    "Bagging is used when the goal is to reduce the variance of a decision tree classifier. Here the objective is to create several \n",
    "subsets of data from training sample chosen randomly with replacement. Each collection of subset data is used to train their \n",
    "decision trees.\n",
    "Boosting is an ensemble method for improving the model predictions of any given learning algorithm. The idea of boosting is to \n",
    "train weak learners sequentially, each trying to correct its predecessor.\n",
    "\"\"\""
   ]
  },
  {
   "cell_type": "code",
   "execution_count": null,
   "metadata": {},
   "outputs": [],
   "source": [
    "# Assignment 19.5\n",
    "\"\"\"\n",
    "Question:\n",
    "How can you avoid overfitting ?\n",
    "\"\"\"\n",
    "\"\"\"\n",
    "Answer:\n",
    "There are few methods to prevents from overfitting\n",
    "1.Cross-validation\n",
    "2.Train with more data\n",
    "3.Remove features\n",
    "4.Early stopping\n",
    "5.Ensembling(Bagging and boosting)\n",
    "\"\"\""
   ]
  }
 ],
 "metadata": {
  "kernelspec": {
   "display_name": "Python 3",
   "language": "python",
   "name": "python3"
  },
  "language_info": {
   "codemirror_mode": {
    "name": "ipython",
    "version": 3
   },
   "file_extension": ".py",
   "mimetype": "text/x-python",
   "name": "python",
   "nbconvert_exporter": "python",
   "pygments_lexer": "ipython3",
   "version": "3.6.5"
  }
 },
 "nbformat": 4,
 "nbformat_minor": 2
}
